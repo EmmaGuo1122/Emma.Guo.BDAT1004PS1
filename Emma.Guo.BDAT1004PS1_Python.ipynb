{
 "cells": [
  {
   "cell_type": "markdown",
   "id": "6d9eb1cd",
   "metadata": {},
   "source": [
    "# Question 6 Python\n",
    "## You can turn a word into pig-Latin using the following two rules (simplified):\n",
    "• If the word starts with a consonant, move that letter to the end and append 'ay'. For example, 'happy' becomes 'appyhay' and 'pencil' becomes 'encilpay'.<br>\n",
    "• If the word starts with a vowel, simply append 'way' to the end of the word. For example, 'enter' becomes 'enterway' and 'other' becomes 'otherway' . For our purposes, there are 5 vowels: a, e, i, o, u (so we count y as a consonant).<br>\n",
    "Write a function pig() that takes a word (i.e., a string) as input and returns its pig-Latin form. Your function should still work if the input word contains upper case characters. Your output should always be lower case however.<br><br>\n",
    "pig('happy') <br>'appyhay'<br>\n",
    "pig('Enter')<br> 'enterway'<br>"
   ]
  },
  {
   "cell_type": "code",
   "execution_count": 6,
   "id": "4aae0022",
   "metadata": {},
   "outputs": [],
   "source": [
    "def pig(word):\n",
    "    vowels = [\"a\", \"e\", \"i\", \"o\", \"u\"]\n",
    "    #convert every letter to all lower case\n",
    "    word = word.lower()\n",
    "    #check the word starts with a consonant or a vowel\n",
    "    #starts with a consonant\n",
    "    if word[0] not in vowels:\n",
    "        word = word + word[0]+ \"ay\"\n",
    "        word = word[1:]\n",
    "    #starts with a vowel\n",
    "    else:\n",
    "        word = word + \"way\"\n",
    "    return word\n",
    "        "
   ]
  },
  {
   "cell_type": "code",
   "execution_count": 7,
   "id": "696e440e",
   "metadata": {},
   "outputs": [
    {
     "data": {
      "text/plain": [
       "'appyhay'"
      ]
     },
     "execution_count": 7,
     "metadata": {},
     "output_type": "execute_result"
    }
   ],
   "source": [
    " pig('happy')"
   ]
  },
  {
   "cell_type": "code",
   "execution_count": 8,
   "id": "6f130dae",
   "metadata": {},
   "outputs": [
    {
     "data": {
      "text/plain": [
       "'enterway'"
      ]
     },
     "execution_count": 8,
     "metadata": {},
     "output_type": "execute_result"
    }
   ],
   "source": [
    "pig('Enter')"
   ]
  },
  {
   "cell_type": "markdown",
   "id": "9ade2d76",
   "metadata": {},
   "source": [
    "# Question 7 Python\n",
    "## File bloodtype1.txt records blood-types of patients (A, B, AB, O or OO) at a clinic. Write a function bldcount() that reads the file with name name and reports (i.e., prints) how many patients there are in each bloodtype.\n",
    "bldcount('bloodtype.txt')<br>\n",
    "There are 10 patients of blood type A.<br>\n",
    "There is one patient of blood type B.<br>\n",
    "There are 10 patients of blood type AB.<br>\n",
    "There are 12 patients of blood type O.<br>\n",
    "There are no patients of blood type OO.<br>"
   ]
  },
  {
   "cell_type": "code",
   "execution_count": 78,
   "id": "45576478",
   "metadata": {},
   "outputs": [],
   "source": [
    "def bldcount():\n",
    "    #open file\n",
    "    bloodfile = open (\"bloodtype1.txt\")\n",
    "    #read each line of the file and create a list\n",
    "    blood = bloodfile.read()\n",
    "    bloodtypes = [\"A\", \"B\", \"AB\", \"O\", \"OO\"]\n",
    "    #split one line string by whitespaces\n",
    "    words = blood.split()\n",
    "    #print the results\n",
    "    for bloodtype in bloodtypes:\n",
    "        count = words.count(bloodtype)\n",
    "        if count == 0:\n",
    "            print('There are no patients of blood type {}.'.format(bloodtype))\n",
    "        elif count == 1:\n",
    "            print ('There is one patients of blood type {}.'.format(bloodtype))\n",
    "        else:\n",
    "            print ('There are {} patients of blood type {}.'.format(str(count),bloodtype))\n",
    "    #close the file\n",
    "    bloodfile.close()\n",
    "        \n",
    "    "
   ]
  },
  {
   "cell_type": "code",
   "execution_count": 79,
   "id": "51e50d49",
   "metadata": {},
   "outputs": [
    {
     "name": "stdout",
     "output_type": "stream",
     "text": [
      "There are 15 patients of blood type A.\n",
      "There is one patients of blood type B.\n",
      "There are 13 patients of blood type AB.\n",
      "There are 15 patients of blood type O.\n",
      "There are no patients of blood type OO.\n"
     ]
    }
   ],
   "source": [
    "bldcount()"
   ]
  },
  {
   "cell_type": "markdown",
   "id": "5819eb0a",
   "metadata": {},
   "source": [
    "# Question 8 Python\n",
    "## Write a function curconv() that takes as input:\n",
    "    a currency represented using a string (e.g., 'JPY' for the Japanese Yen or 'EUR' for the Euro)<br>\n",
    "    an amount<br>\n",
    "and then converts and returns the amount in US dollars.<br>\n",
    "curconv('EUR', 100)<br>\n",
    "122.96544<br>\n",
    "curconv('JPY', 100)<br>\n",
    "1.241401<br>"
   ]
  },
  {
   "cell_type": "code",
   "execution_count": 75,
   "id": "9cb2338c",
   "metadata": {},
   "outputs": [],
   "source": [
    "def curconv(currency, num):\n",
    "    #open file\n",
    "    file = open(\"currencies.txt\")\n",
    "    #read each line of the file and create a list\n",
    "    all_ex = file.readlines()\n",
    "    ex_list = []\n",
    "    #convert every exchange rate from string to tuple\n",
    "    for ex_str in all_ex: \n",
    "        ex_tuple = tuple(map(str, ex_str.split()))\n",
    "        ex_list.append(ex_tuple)\n",
    "    #find three-letter currency in exchange rate list  \n",
    "    for i, ex_rate in enumerate(ex_list):\n",
    "        if currency == ex_rate[0]:\n",
    "            #compute it to US dollars \n",
    "            us_dollar = float(ex_list[i][1]) * num\n",
    "            break\n",
    "    #close file\n",
    "    file.close()\n",
    "        \n",
    "    \n",
    "    return us_dollar"
   ]
  },
  {
   "cell_type": "code",
   "execution_count": 76,
   "id": "4add0b8b",
   "metadata": {},
   "outputs": [
    {
     "data": {
      "text/plain": [
       "122.96544"
      ]
     },
     "execution_count": 76,
     "metadata": {},
     "output_type": "execute_result"
    }
   ],
   "source": [
    "curconv('EUR', 100)"
   ]
  },
  {
   "cell_type": "code",
   "execution_count": 77,
   "id": "3dfd144a",
   "metadata": {},
   "outputs": [
    {
     "data": {
      "text/plain": [
       "1.241401"
      ]
     },
     "execution_count": 77,
     "metadata": {},
     "output_type": "execute_result"
    }
   ],
   "source": [
    "curconv('JPY', 100)"
   ]
  },
  {
   "cell_type": "markdown",
   "id": "e1de5bb4",
   "metadata": {},
   "source": [
    "# Question 9 Python\n",
    "## Each of the following will cause an exception (an error). Identify what type of exception each will cause."
   ]
  },
  {
   "cell_type": "markdown",
   "id": "b1408cdd",
   "metadata": {},
   "source": [
    "|Errors|Exception Type|\n",
    "| --- | --- | \n",
    "|Trying to add incompatible variables, as in adding 6 + ‘a’|TypeError\n",
    "|Referring to the 12th item of a list that has only 10 items|IndexError\n",
    "|Using a value that is out of range for a function’s input, such as calling math.sqrt( 1.0)|ValueError |\n",
    "|Using an undeclared variable, such as print(x) when x has not been defined|NameError|\n",
    "|Trying to open a file that does not exist, such as mistyping the file name or looking in the wrong directory.|IOError|"
   ]
  },
  {
   "cell_type": "markdown",
   "id": "2b7dcda4",
   "metadata": {},
   "source": [
    "# Question 10 Python\n",
    "## Encryption is the process of hiding the meaning of a text by substituting letters in the message with other letters, according to some system. If the process is successful, no one but the intended recipient can understand the encrypted message. Cryptanalysis refers to attempts to undo the encryption, even if some details of the encryption are unknown (for example, if an encrypted message has been intercepted). The first step of cryptanalysis is often to build up a table of letter frequencies in the encrypted text. Assume that the string letters is already defined as 'abcdefghijklmnopqrstuvwxyz'. Write a function called frequencies() that takes a string as its only parameter, and returns a list of integers, showing the number of times each character appears in the text. Your function may ignore any characters that are not in letters.\n",
    "### frequencies('The quick red fox got bored and went home.')\n",
    "### [1, 1, 1, 3, 5, 1, 1, 2, 1, 0, 1, 0, 1, 2, 4, 0, 1, 2, 0, 2, 1, 0, 1, 1, 0, 0]\n",
    "### frequencies('apple')"
   ]
  },
  {
   "cell_type": "code",
   "execution_count": 80,
   "id": "f7ddb3f5",
   "metadata": {},
   "outputs": [],
   "source": [
    "def frequencies(text):\n",
    "    code = 'abcdefghijklmnopqrstuvwxyz'\n",
    "    #covert every letter to lower case \n",
    "    text= text.lower()\n",
    "    #check a-z frequencies\n",
    "    frequency = []\n",
    "    for letter in code:\n",
    "        #check whether the letter in text\n",
    "        if letter in text:\n",
    "            frequency.append(text.count(letter))\n",
    "        # if not in text, then add 0 to frequency\n",
    "        else:\n",
    "            frequency.append(0)\n",
    "    return frequency"
   ]
  },
  {
   "cell_type": "code",
   "execution_count": 81,
   "id": "0c9101dd",
   "metadata": {},
   "outputs": [
    {
     "data": {
      "text/plain": [
       "[1, 1, 1, 3, 5, 1, 1, 2, 1, 0, 1, 0, 1, 2, 4, 0, 1, 2, 0, 3, 1, 0, 1, 1, 0, 0]"
      ]
     },
     "execution_count": 81,
     "metadata": {},
     "output_type": "execute_result"
    }
   ],
   "source": [
    " frequencies('The quick red fox got bored and went home.')"
   ]
  },
  {
   "cell_type": "code",
   "execution_count": 82,
   "id": "b9856795",
   "metadata": {},
   "outputs": [
    {
     "data": {
      "text/plain": [
       "[1, 0, 0, 0, 1, 0, 0, 0, 0, 0, 0, 1, 0, 0, 0, 2, 0, 0, 0, 0, 0, 0, 0, 0, 0, 0]"
      ]
     },
     "execution_count": 82,
     "metadata": {},
     "output_type": "execute_result"
    }
   ],
   "source": [
    "frequencies('apple')"
   ]
  },
  {
   "cell_type": "code",
   "execution_count": null,
   "id": "a6e236e4",
   "metadata": {},
   "outputs": [],
   "source": []
  }
 ],
 "metadata": {
  "kernelspec": {
   "display_name": "Python 3",
   "language": "python",
   "name": "python3"
  },
  "language_info": {
   "codemirror_mode": {
    "name": "ipython",
    "version": 3
   },
   "file_extension": ".py",
   "mimetype": "text/x-python",
   "name": "python",
   "nbconvert_exporter": "python",
   "pygments_lexer": "ipython3",
   "version": "3.8.8"
  }
 },
 "nbformat": 4,
 "nbformat_minor": 5
}

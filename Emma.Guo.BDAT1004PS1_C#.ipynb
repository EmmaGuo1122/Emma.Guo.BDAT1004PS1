{
 "cells": [
  {
   "cell_type": "markdown",
   "id": "48160554",
   "metadata": {},
   "source": [
    "# Question 1 C#\n",
    "## What data type is each of the following?"
   ]
  },
  {
   "cell_type": "markdown",
   "id": "6227ed64",
   "metadata": {},
   "source": [
    "| Question| Answer|\n",
    "| --- | --- | \n",
    "|5| integer|\n",
    "|5.0|float|\n",
    "|5 > 1|boolean|\n",
    "|'5'|string|\n",
    "|5 * 2|integer|\n",
    "|'5' * 2|string|\n",
    "|'5' + '2'|string|\n",
    "|5 / 2|integer|\n",
    "|5 % 2|integer|\n",
    "|{5, 2, 1}|arrays|\n",
    "|5 == 3|boolean|\n",
    "|Pi (the number)|float|\n"
   ]
  },
  {
   "cell_type": "markdown",
   "id": "73f96d58",
   "metadata": {},
   "source": [
    "# Question 2 C#\n",
    "## Write (and evaluate) C# expressions that answer these questions:\n",
    "### a. How many letters are there in 'Supercalifragilisticexpialidocious'?\n"
   ]
  },
  {
   "cell_type": "code",
   "execution_count": 1,
   "id": "92e701c1",
   "metadata": {},
   "outputs": [
    {
     "name": "stdout",
     "output_type": "stream",
     "text": [
      "There are 34 letters in Supercalifragilisticexpialidocious\r\n"
     ]
    }
   ],
   "source": [
    "string mystr=\"Supercalifragilisticexpialidocious\";\n",
    "int mylen=mystr.Length;\n",
    "Console.WriteLine($\"There are {mylen} letters in {mystr}\");"
   ]
  },
  {
   "cell_type": "markdown",
   "id": "a185675a",
   "metadata": {},
   "source": [
    "### b. Does 'Supercalifragilisticexpialidocious' contain 'ice' as a substring?"
   ]
  },
  {
   "cell_type": "code",
   "execution_count": 2,
   "id": "d76d441a",
   "metadata": {},
   "outputs": [
    {
     "data": {
      "text/plain": [
       "True"
      ]
     },
     "execution_count": 2,
     "metadata": {},
     "output_type": "execute_result"
    }
   ],
   "source": [
    "return mystr.Contains(\"ice\");"
   ]
  },
  {
   "cell_type": "markdown",
   "id": "7cfb90c2",
   "metadata": {},
   "source": [
    "# Question 3 C#\n",
    "## Implement function triangleArea(a,b,c) that takes as input the lengths of the 3 sides of a triangle and returns the area of the triangle. By Heron's formula, the area of a triangle with side lengths a, b, and c is square root of s(s - a)(s -b)(s -c), where s = (a + b + c) /2.\n",
    "### triangleArea(2,2,2) 1.7320508075688772"
   ]
  },
  {
   "cell_type": "code",
   "execution_count": 3,
   "id": "d2799bc5",
   "metadata": {},
   "outputs": [],
   "source": [
    "\n",
    "private static float triangleArea(float a,float b,float c)\n",
    "    {\n",
    "      float s = (a + b + c)/2;\n",
    "      float area = System.MathF.Sqrt(s*(s - a)*(s -b)*(s -c));\n",
    "      return area;\n",
    "    }"
   ]
  },
  {
   "cell_type": "code",
   "execution_count": 4,
   "id": "69470818",
   "metadata": {},
   "outputs": [
    {
     "data": {
      "text/plain": [
       "1.7320508"
      ]
     },
     "execution_count": 4,
     "metadata": {},
     "output_type": "execute_result"
    }
   ],
   "source": [
    "triangleArea(2,2,2)"
   ]
  },
  {
   "cell_type": "markdown",
   "id": "5d8cc2f2",
   "metadata": {},
   "source": [
    "# Question 4 C#\n",
    "## Write a program in C# Sharp to separate odd and even integers in separate arrays.\n",
    "Go to the editor<br>\n",
    "Test Data :<br>\n",
    "Input the number of elements to be stored in the array :5<br>\n",
    "Input 5 elements in the array :<br>\n",
    "element - 0 : 25<br>\n",
    "element - 1 : 47<br>\n",
    "element - 2 : 42<br>\n",
    "element - 3 : 56<br>\n",
    "element - 4 : 32<br>\n",
    "Expected Output:<br>\n",
    "The Even elements are:<br>\n",
    "42 56 32<br>\n",
    "The Odd elements are :<br>\n",
    "25 47<br>"
   ]
  },
  {
   "cell_type": "code",
   "execution_count": 5,
   "id": "4bf66a5f",
   "metadata": {},
   "outputs": [],
   "source": [
    "public static int[][] Numbers(int[] mylst)\n",
    "        {\n",
    "            //Creat two empty lists to store even and odd numbers\n",
    "            List<int> even = new List<int>();\n",
    "            List<int> odd = new List<int>();\n",
    "            \n",
    "            //determine the number is even or odd\n",
    "            foreach (int num in mylst)\n",
    "            {\n",
    "                if (num % 2 == 0)\n",
    "                    even.Add(num);\n",
    "                else\n",
    "                    odd.Add(num);\n",
    "\n",
    "            }\n",
    "            int[][] result = new int[2][];\n",
    "            \n",
    "            //Convert list to array\n",
    "            result[0] = even.ToArray();\n",
    "            result[1] = odd.ToArray();\n",
    "            \n",
    "            //return jagged array with first array of even numbers and second array of odd number\n",
    "            return result;\n",
    "        }"
   ]
  },
  {
   "cell_type": "code",
   "execution_count": 6,
   "id": "3f3017e0",
   "metadata": {},
   "outputs": [
    {
     "name": "stdout",
     "output_type": "stream",
     "text": [
      "The Even elements are: \n",
      "42 56 32 \n",
      "The Odd elements are: \n",
      "25 47 "
     ]
    }
   ],
   "source": [
    "//test case\n",
    "int[] arr = new int[] { 25, 47, 42, 56, 32 };\n",
    "int[][] result = Numbers(arr);\n",
    "\n",
    "//print as required format\n",
    "Console.WriteLine(\"The Even elements are: \");\n",
    "foreach (int num in result[0])\n",
    "    Console.Write(num+\" \");\n",
    "\n",
    "Console.WriteLine(\"\\nThe Odd elements are: \");\n",
    "foreach (int num in result[1])\n",
    "    Console.Write(num+\" \");\n",
    "\n"
   ]
  },
  {
   "cell_type": "markdown",
   "id": "3ab3b65f",
   "metadata": {},
   "source": [
    "# Question 5 C#\n",
    "## a. Write a function inside(x,y,x1,y1,x2,y2) that returns True or False depending on whether the point (x,y) lies in the rectangle with lower left corner (x1,y1) and upper right corner (x2,y2).\n",
    "inside(1,1,0,0,2,3)<br>\n",
    "True<br>\n",
    "inside(-1,-1,0,0,2,3)<br>\n",
    "False<br>\n"
   ]
  },
  {
   "cell_type": "code",
   "execution_count": 7,
   "id": "a00d41eb",
   "metadata": {},
   "outputs": [],
   "source": [
    "  public static bool inside(double x, double y, double x1, double y1, double x2, double y2)\n",
    "        {\n",
    "            //check point (x,y) lies in the rectangle with lower left corner (x1,y1) and upper right corner (x2,y2).\n",
    "            if (x > x1 && y > y1 && x < x2 && y < y2)\n",
    "                return true;\n",
    "            else\n",
    "                return false;\n",
    "        }\n"
   ]
  },
  {
   "cell_type": "code",
   "execution_count": 8,
   "id": "0eb0508a",
   "metadata": {},
   "outputs": [
    {
     "name": "stdout",
     "output_type": "stream",
     "text": [
      "True\r\n"
     ]
    }
   ],
   "source": [
    "//test case #1\n",
    "bool result = inside(1, 1, 0, 0, 2, 3);\n",
    "Console.WriteLine(result);"
   ]
  },
  {
   "cell_type": "code",
   "execution_count": 9,
   "id": "f72eb3b6",
   "metadata": {},
   "outputs": [
    {
     "name": "stdout",
     "output_type": "stream",
     "text": [
      "False\r\n"
     ]
    }
   ],
   "source": [
    "//test case #2\n",
    "bool result = inside(-1,-1,0,0,2,3);\n",
    "Console.WriteLine(result);"
   ]
  },
  {
   "cell_type": "markdown",
   "id": "ac1ea10e",
   "metadata": {},
   "source": [
    "## b. Use function inside() from part a. to write an expression that tests whether the point (1,1) lies in both of the following rectangles: one with lower left corner (0.3, 0.5) and upper right corner (1.1, 0.7) and the other with lower left corner (0.5, 0.2) and upper right corner (1.1, 2)."
   ]
  },
  {
   "cell_type": "code",
   "execution_count": 10,
   "id": "fc660287",
   "metadata": {},
   "outputs": [
    {
     "name": "stdout",
     "output_type": "stream",
     "text": [
      "False\r\n"
     ]
    }
   ],
   "source": [
    "Console.WriteLine(inside(1,1,0.3,0.5,1.1,0.7) && inside(1,1,0.5,0.2,1.1,2));"
   ]
  },
  {
   "cell_type": "code",
   "execution_count": null,
   "id": "c7986080",
   "metadata": {},
   "outputs": [],
   "source": []
  },
  {
   "cell_type": "code",
   "execution_count": null,
   "id": "ce6dc206",
   "metadata": {},
   "outputs": [],
   "source": []
  },
  {
   "cell_type": "code",
   "execution_count": null,
   "id": "a9f24776",
   "metadata": {},
   "outputs": [],
   "source": []
  },
  {
   "cell_type": "code",
   "execution_count": null,
   "id": "acc79d11",
   "metadata": {},
   "outputs": [],
   "source": []
  }
 ],
 "metadata": {
  "kernelspec": {
   "display_name": ".NET (C#)",
   "language": "C#",
   "name": ".net-csharp"
  },
  "language_info": {
   "file_extension": ".cs",
   "mimetype": "text/x-csharp",
   "name": "C#",
   "pygments_lexer": "csharp",
   "version": "8.0"
  }
 },
 "nbformat": 4,
 "nbformat_minor": 5
}
